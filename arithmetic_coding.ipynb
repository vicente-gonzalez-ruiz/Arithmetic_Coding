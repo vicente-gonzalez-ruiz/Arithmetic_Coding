{
 "cells": [
  {
   "cell_type": "markdown",
   "metadata": {
    "slideshow": {
     "slide_type": "slide"
    }
   },
   "source": [
    "# Arithmetic coding\n",
    "\n",
    "* Arithmetic coding relaxes the Eq. (Eq:Huffman),\n",
    "  verifying that, for every encoded symbol, \n",
    "  \\begin{equation}\n",
    "    l\\big(c(s)\\big) = I(s), \\tag{Eq:arithmetic}\n",
    "  \\end{equation}\n",
    "  i.e. the number of bits of data (code-word) assigned by the encoder\n",
    "  is equal to the number of bits of information that the symbol\n",
    "  represent.\n",
    "\n",
    "<img src=\"data/comparacion.png\" width=\"800\">\n",
    "\n",
    "* It can be said that, arithmetic coding is optimal because\n",
    "  the average length of an arithmetic code is equal to the entropy of\n",
    "  the information source, measured in bits/symbol."
   ]
  },
  {
   "cell_type": "markdown",
   "metadata": {
    "slideshow": {
     "slide_type": "subslide"
    }
   },
   "source": [
    "### An ideal encoder\n",
    "\n",
    "1. Let $[L,H)\\leftarrow [0.0,1.0)$ an interval of real numbers.\n",
    "2. While the input is not exhausted:\n",
    "    1. Split $[L,H)$ into so many sub-intervals as different symbols\n",
    "       are in the alphabet. The size of each sub-interval is proportional\n",
    "       to the probability of the corresponding symbol.\n",
    "    2. Select the sub-interval $[L',H')$ associated with the encoded\n",
    "       symbol.\n",
    "    3. $[L,H)\\leftarrow [L',H')$.\n",
    "3. Output a real number $x\\in[L,H)$ (the arithmetic\n",
    "   code-stream). The number of decimals of $x$ should be large enough\n",
    "   to distinguish the final sub-interval $[L,H)$ from the rest of\n",
    "   possibilities."
   ]
  },
  {
   "cell_type": "markdown",
   "metadata": {
    "slideshow": {
     "slide_type": "subslide"
    }
   },
   "source": [
    "### Example\n",
    "\n",
    "* Imagine a binary sequence, where $p(\\text{A})=3/4$ and\n",
    "  $p(\\text{B})=1/4$. Compute the arithmetic code of the sequences A, B,\n",
    "  AA, AB, BA y BB.\n",
    "  \n",
    "<img src=\"data/aritmetica_ejemplo.png\" width=\"500\">"
   ]
  },
  {
   "cell_type": "markdown",
   "metadata": {
    "slideshow": {
     "slide_type": "subslide"
    }
   },
   "source": [
    "### An ideal decoder\n",
    "\n",
    "1. Let $[L,H)\\leftarrow [0.0,1.0)$ the initial interval.\n",
    "2. While the input is not exhausted:\n",
    "    1. Split $[L,H)$ in so many sub-intervals as different symbols\n",
    "       are in the alphabet. The size of each sub-interval is proportional\n",
    "       to the probability of the corresponding symbol.\n",
    "    2. Input so many bits of $x$ as they are needed to:\n",
    "        1. Select the sub-interval $[L',H')$ that contains $x$.\n",
    "        2. Output the symbol that $[L',H')$ represents.\n",
    "        3. $[L,H)\\leftarrow[L',H')$."
   ]
  },
  {
   "cell_type": "markdown",
   "metadata": {
    "slideshow": {
     "slide_type": "subslide"
    }
   },
   "source": [
    "### Example\n",
    "TO-DO"
   ]
  },
  {
   "cell_type": "markdown",
   "metadata": {
    "slideshow": {
     "slide_type": "subslide"
    }
   },
   "source": [
    "### Incremental transmission\n",
    "\n",
    "* It is not necessary to wait for the end of the encoding to\n",
    "  generate the arithmetic code. When we work with binary\n",
    "  representations of the real numbers $L$ and $H$, their most\n",
    "  significant bits become identical when the interval is reduced. These\n",
    "  bits belong to the output arithmetic code, therefore, they\n",
    "  can be output as soon as they match.\n",
    "  \n",
    "  For example, when the symbol B is encoded, a code-bit 1 can be\n",
    "  output because any sequence of symbols that start with B have a\n",
    "  code-word that begins with 1.\n",
    "    \n",
    "* When the most significant bits of $L$ and $H$ are output, the\n",
    "  bits of each register are shifted to the left, and new bits need to\n",
    "  be inserted. The results is an automatic zoom of the selected\n",
    "  sub-interval.\n",
    "\n",
    "  Following with the previous example, the register shifting generates\n",
    "  an ampliation of the $[0.50,1.00)$ interval to the $[0.00,1.00)$."
   ]
  },
  {
   "cell_type": "markdown",
   "metadata": {
    "slideshow": {
     "slide_type": "subslide"
    }
   },
   "source": [
    "### Lab\n",
    "TO-DO."
   ]
  }
 ],
 "metadata": {
  "celltoolbar": "Slideshow",
  "kernelspec": {
   "display_name": "Python 3",
   "language": "python",
   "name": "python3"
  },
  "language_info": {
   "codemirror_mode": {
    "name": "ipython",
    "version": 3
   },
   "file_extension": ".py",
   "mimetype": "text/x-python",
   "name": "python",
   "nbconvert_exporter": "python",
   "pygments_lexer": "ipython3",
   "version": "3.6.3"
  }
 },
 "nbformat": 4,
 "nbformat_minor": 1
}
